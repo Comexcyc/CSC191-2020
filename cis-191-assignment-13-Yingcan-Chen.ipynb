{
 "cells": [
  {
   "cell_type": "markdown",
   "metadata": {},
   "source": [
    "# Assignment 13 - Practice Data Analytics with Pandas (Starter)"
   ]
  },
  {
   "cell_type": "markdown",
   "metadata": {},
   "source": [
    "In this assignment, you will build foundational skills with Pandas by creating and inspecting Series (for one-dimensional data) and DataFrame (for two-dimensional data) objects.\n",
    "\n",
    "Let's start by importing Pandas.\n",
    "\n",
    "**Action:** Execute the following code block."
   ]
  },
  {
   "cell_type": "code",
   "execution_count": 1,
   "metadata": {},
   "outputs": [],
   "source": [
    "import pandas as pd"
   ]
  },
  {
   "cell_type": "markdown",
   "metadata": {},
   "source": [
    "## Series (One-Dimensional Data)\n",
    "\n",
    "Consider the following data on some large Lego sets (by number of pieces, not necessarily physical dimensions) from 2020:\n",
    "\n",
    "| Lego Set Name | Number of Pieces |\n",
    "| :-- | --: |\n",
    "| Millennium Falcon | 7,541 |\n",
    "| Hogwarts Castle | 6,020 |\n",
    "| Taj Mahal | 5,923 |\n",
    "| Ninjago City | 4,867 |\n",
    "| Star Destoyer | 4,784 |\n",
    "| Ghostbusters | 4,600 |\n",
    "\n",
    "### Problem 1. Creating a Series\n",
    "**Actions:**\n",
    "- Create a Series object and store in a variable called `s`.\n",
    "- Using the Series constructor, pass in a list of integers.  The integers are the number of pieces for each of the six (6) large Lego sets listed above.  Don't worry about the set names for now.\n",
    "- Print out the `s` object to see the default data view.\n",
    "- Inspect the Series object `s` by printing out its data type."
   ]
  },
  {
   "cell_type": "code",
   "execution_count": 2,
   "metadata": {
    "scrolled": true
   },
   "outputs": [
    {
     "name": "stdout",
     "output_type": "stream",
     "text": [
      "0    7541\n",
      "1    6020\n",
      "2    5923\n",
      "3    4867\n",
      "4    4784\n",
      "5    4600\n",
      "dtype: int64\n",
      "<class 'pandas.core.series.Series'>\n"
     ]
    }
   ],
   "source": [
    "# Your implementation:\n",
    "s = pd.Series([7541, 6020, 5923, 4867, 4784, 4600])\n",
    "print(s)\n",
    "print(type(s))\n"
   ]
  },
  {
   "cell_type": "markdown",
   "metadata": {},
   "source": [
    "### Problem 2. Custom Index Labels\n",
    "\n",
    "If you created `s` successfully above, the index labels will be 0, 1, 2, 3, 4, and 5.\n",
    "\n",
    "**Actions:**\n",
    "\n",
    "- Re-create the Series object in a variable called `s`.\n",
    "- Pass an optional argument to the constructor method: a list of custom index labels.\n",
    "- The custom index labels are the names of the Lego sets (e.g., \"Millennium Falcon\", \"Hogwarts Castle\", etc.).  Each label must correctly match up with the number of pieces data point.\n",
    "- Print out the `s` object."
   ]
  },
  {
   "cell_type": "code",
   "execution_count": 3,
   "metadata": {},
   "outputs": [
    {
     "name": "stdout",
     "output_type": "stream",
     "text": [
      "Millennium Falcon    7541\n",
      "Hogwarts Castle      6020\n",
      "Taj Mahal            5923\n",
      "Ninjago City         4867\n",
      "Star Destoyer        4784\n",
      "Ghostbusters         4600\n",
      "dtype: int64\n"
     ]
    }
   ],
   "source": [
    "# Your implementation:\n",
    "s = pd.Series([7541, 6020, 5923, 4867, 4784, 4600], index = [\"Millennium Falcon\", \"Hogwarts Castle\", \"Taj Mahal\", \"Ninjago City\", \"Star Destoyer\", \"Ghostbusters\"])\n",
    "print(s)"
   ]
  },
  {
   "cell_type": "markdown",
   "metadata": {},
   "source": [
    "**Actions:**\n",
    "\n",
    "- Re-create the Series object in a variable called `s`.\n",
    "- Instead of passing in custom index labels to the constructor method, set the value of the `index` attribute on the Series object.\n",
    "- Print out the `s` object."
   ]
  },
  {
   "cell_type": "code",
   "execution_count": 4,
   "metadata": {},
   "outputs": [
    {
     "name": "stdout",
     "output_type": "stream",
     "text": [
      "Millennium Falcon    7541\n",
      "Hogwarts Castle      6020\n",
      "Taj Mahal            5923\n",
      "Ninjago City         4867\n",
      "Star Destoyer        4784\n",
      "Ghostbusters         4600\n",
      "dtype: int64\n"
     ]
    }
   ],
   "source": [
    "# Your implementation:\n",
    "s = pd.Series([7541, 6020, 5923, 4867, 4784, 4600])\n",
    "s.index= [\"Millennium Falcon\", \"Hogwarts Castle\", \"Taj Mahal\", \"Ninjago City\", \"Star Destoyer\", \"Ghostbusters\"]\n",
    "print(s)"
   ]
  },
  {
   "cell_type": "markdown",
   "metadata": {},
   "source": [
    "### Problem 3. Indexing a Series\n",
    "**Actions:**\n",
    "- Using a numerical index with bracket syntax on the Series object `s`, access and store the number of pieces for **Hogwarts Castle** in a variable called `numPiecesA`.\n",
    "- Print the value in `numPiecesA`."
   ]
  },
  {
   "cell_type": "code",
   "execution_count": 5,
   "metadata": {},
   "outputs": [
    {
     "name": "stdout",
     "output_type": "stream",
     "text": [
      "6020\n"
     ]
    }
   ],
   "source": [
    "# Your implementation:\n",
    "numPiecesA = s[1]\n",
    "print(numPiecesA)\n"
   ]
  },
  {
   "cell_type": "markdown",
   "metadata": {},
   "source": [
    "**Actions:**\n",
    "\n",
    "- Using a string index (i.e., label) with bracket syntax on the Series object `s`, access and store the number of pieces for **Ninjago City** in a variable called `numPiecesB`.\n",
    "- Print the value in `numPiecesB`."
   ]
  },
  {
   "cell_type": "code",
   "execution_count": 6,
   "metadata": {},
   "outputs": [
    {
     "name": "stdout",
     "output_type": "stream",
     "text": [
      "4867\n"
     ]
    }
   ],
   "source": [
    "# Your implementation:\n",
    "numPiecesB = s[\"Ninjago City\"]\n",
    "print(numPiecesB)\n"
   ]
  },
  {
   "cell_type": "markdown",
   "metadata": {},
   "source": [
    "**Actions:**\n",
    "- Using the `loc` attribute of the Series object `s`, access and store the number of pieces for **Taj Mahal** in a variable called `numPiecesC`.\n",
    "- Print the value in `numPiecesC`."
   ]
  },
  {
   "cell_type": "code",
   "execution_count": 7,
   "metadata": {},
   "outputs": [
    {
     "name": "stdout",
     "output_type": "stream",
     "text": [
      "5923\n"
     ]
    }
   ],
   "source": [
    "# Your implementation:\n",
    "numPiecesC = s.loc[\"Taj Mahal\"]\n",
    "print(numPiecesC)\n"
   ]
  },
  {
   "cell_type": "markdown",
   "metadata": {},
   "source": [
    "## DataFrame (Two-Dimensional Data)\n",
    "\n",
    "Let's expand our data set of large Lego sets from 2020, adding more sets (rows) and data points (columns):\n",
    "\n",
    "| Lego Set Name | Number of Pieces | Set Number | Number of Minifigures | Retail Price |\n",
    "| :-- | --: | --: | --: | --: |\n",
    "| Millennium Falcon | 7,541 | 75192 | 10 | \\\\$799.99 |\n",
    "| Hogwarts Castle | 6,020 | 71043 | 4 | \\\\$399.99 |\n",
    "| Taj Mahal | 5,923 | 10256 | 0 | \\\\$369.99 |\n",
    "| Ninjago City | 4,867 | 70620 | 17 | \\\\$399.99 |\n",
    "| Star Destoyer | 4,784 | 75055 | 6 | \\\\$699.99 |\n",
    "| Ghostbusters | 4,600 | 75827 | 9 | \\\\$648.00 |\n",
    "| Tower Bridge | 4,295 | 10214 | 0 | \\\\$369.75 |\n",
    "| Big Ben | 4,162 | 10253 | 0 | \\\\$527.47 |\n",
    "| Roller Coaster | 4,124 | 10261 | 11 | \\\\$599.99 |\n",
    "| Disney Castle | 4,080 | 71040 | 5 | \\\\$584.70 |\n",
    "\n",
    "### Problem 4. Exploring the Data\n",
    "Before you can create a Pandas DataFrame object to represent this data, you need to get the data into a format that Python can recognize.\n",
    "\n",
    "**Actions:**\n",
    "- Create a list called `setNames` which contains each of the \"Set Names\" data points, in the order provided (from 1 to 10).\n",
    "- Create a list called `numpieces` which contains each of the \"Number of Pieces\" data points, in the order provided (from 1 to 10).\n",
    "- Create a list called `setNumbers` which contains each of \"Set Numbers\" data points, in the order provided (from 1 to 10).\n",
    "- Create a list called `numMinifigures` which contains each of the \"Number of Minifigures\" data points, in the order provided (from 1 to 10).\n",
    "- Create a list called `retailPrices` which contains each of the \"Retail Prices\" data points, in the order provided (from 1 to 10)."
   ]
  },
  {
   "cell_type": "code",
   "execution_count": 8,
   "metadata": {
    "scrolled": true
   },
   "outputs": [],
   "source": [
    "# Your implementation\n",
    "setNames = [\"Millennium Falcon\", \"Hogwarts Castle\", \"Taj Mahal\", \"Ninjago City\", \"Star Destoyer\", \"Ghostbusters\", \"Tower Bridge\", \"Big Ben\", \"Roller Coaster\", \"Disney Castle\"]\n",
    "numpieces = [7541, 6020, 5923, 4867, 4784, 4600, 4295, 4162, 4124, 4080]\n",
    "setNumbers = [75192, 71043, 10256, 70620, 75055, 75827, 10214, 10253, 10261, 71040]\n",
    "numMinifigures = [10, 4, 0, 17, 6, 9, 0, 0, 11, 5]\n",
    "retailPrices = [799.99, 399.99, 369.99, 399.99, 699.99, 648.00, 369.75, 527.47, 599.99, 584.70]\n"
   ]
  },
  {
   "cell_type": "markdown",
   "metadata": {},
   "source": [
    "**Action:**\n",
    "\n",
    "- Print out the length of each list variable to make sure that they are all the same length."
   ]
  },
  {
   "cell_type": "code",
   "execution_count": 9,
   "metadata": {},
   "outputs": [
    {
     "name": "stdout",
     "output_type": "stream",
     "text": [
      "10\n",
      "10\n",
      "10\n",
      "10\n",
      "10\n"
     ]
    }
   ],
   "source": [
    "# Your implementation:\n",
    "print(len(setNames))\n",
    "print(len(numpieces))\n",
    "print(len(setNumbers))\n",
    "print(len(numMinifigures))\n",
    "print(len(retailPrices))"
   ]
  },
  {
   "cell_type": "markdown",
   "metadata": {},
   "source": [
    "### Problem 5. Creating a DataFrame\n",
    "\n",
    "**Actions:**\n",
    "- Create a Pandas DataFrame object called `df`.\n",
    "- Pass the data from `setNames`, `pieces`, `setNumbers`, `minifigures`, and `retailPrices` into the DataFrame constructor, providing column labels.\n",
    "- Print out the `df` object to see the default data view.\n",
    "- Inspect the Pandas DataFrame object `df` by printing out its data type."
   ]
  },
  {
   "cell_type": "code",
   "execution_count": 10,
   "metadata": {},
   "outputs": [
    {
     "name": "stdout",
     "output_type": "stream",
     "text": [
      "       Lego Set Name  Number of Pieces  Set Number  Number of Minifigures  \\\n",
      "0  Millennium Falcon              7541       75192                     10   \n",
      "1    Hogwarts Castle              6020       71043                      4   \n",
      "2          Taj Mahal              5923       10256                      0   \n",
      "3       Ninjago City              4867       70620                     17   \n",
      "4      Star Destoyer              4784       75055                      6   \n",
      "5       Ghostbusters              4600       75827                      9   \n",
      "6       Tower Bridge              4295       10214                      0   \n",
      "7            Big Ben              4162       10253                      0   \n",
      "8     Roller Coaster              4124       10261                     11   \n",
      "9      Disney Castle              4080       71040                      5   \n",
      "\n",
      "   Retail Price  \n",
      "0        799.99  \n",
      "1        399.99  \n",
      "2        369.99  \n",
      "3        399.99  \n",
      "4        699.99  \n",
      "5        648.00  \n",
      "6        369.75  \n",
      "7        527.47  \n",
      "8        599.99  \n",
      "9        584.70  \n",
      "<class 'pandas.core.frame.DataFrame'>\n"
     ]
    }
   ],
   "source": [
    "# Your implementation:\n",
    "df = pd.DataFrame({\"Lego Set Name\":setNames, \"Number of Pieces\": numpieces, \"Set Number\":setNumbers, \"Number of Minifigures\": numMinifigures, \"Retail Price\": retailPrices})\n",
    "print(df)\n",
    "print(type(df))"
   ]
  },
  {
   "cell_type": "markdown",
   "metadata": {},
   "source": [
    "### Problem 6. Accessing a Series\n",
    "\n",
    "**Action:**\n",
    "- Use bracket syntax to access the Series representing `setNames` from the DataFrame object `df`.  You will need to use whatever column label you provided to the constructor to represent `setNames` (this value is a String).\n",
    "- Store the Series in `s`.\n",
    "- Print `s`.\n",
    "- Print the data type for `s`."
   ]
  },
  {
   "cell_type": "code",
   "execution_count": 11,
   "metadata": {},
   "outputs": [
    {
     "name": "stdout",
     "output_type": "stream",
     "text": [
      "0    Millennium Falcon\n",
      "1      Hogwarts Castle\n",
      "2            Taj Mahal\n",
      "3         Ninjago City\n",
      "4        Star Destoyer\n",
      "5         Ghostbusters\n",
      "6         Tower Bridge\n",
      "7              Big Ben\n",
      "8       Roller Coaster\n",
      "9        Disney Castle\n",
      "Name: Lego Set Name, dtype: object\n",
      "<class 'pandas.core.series.Series'>\n"
     ]
    }
   ],
   "source": [
    "# Your implementation:\n",
    "s = df[\"Lego Set Name\"]\n",
    "print(s)\n",
    "print(type(s))"
   ]
  },
  {
   "cell_type": "markdown",
   "metadata": {},
   "source": [
    "### Problem 7. Inspecting DataFrame Data Types\n",
    "\n",
    "**Action:**\n",
    "- Print out the `dtypes` attribute of the DataFrame object `df`."
   ]
  },
  {
   "cell_type": "code",
   "execution_count": 12,
   "metadata": {},
   "outputs": [
    {
     "name": "stdout",
     "output_type": "stream",
     "text": [
      "Lego Set Name             object\n",
      "Number of Pieces           int64\n",
      "Set Number                 int64\n",
      "Number of Minifigures      int64\n",
      "Retail Price             float64\n",
      "dtype: object\n"
     ]
    }
   ],
   "source": [
    "# Your implementation:\n",
    "print (df.dtypes)\n"
   ]
  },
  {
   "cell_type": "markdown",
   "metadata": {},
   "source": [
    "### Problem 8. Reading Data\n",
    "\n",
    "**Actions:**\n",
    "- Download the file `assignment-13-data.csv` from Blackboard.\n",
    "- Place the file in the same directory as this Jupyter Notebook.\n",
    "- Use Pandas to read the file directly into a Pandas DataFrame object called `df`.\n",
    "- Print the `df` object."
   ]
  },
  {
   "cell_type": "code",
   "execution_count": 13,
   "metadata": {},
   "outputs": [
    {
     "name": "stdout",
     "output_type": "stream",
     "text": [
      "           Set Name  Pieces  Set Number  Minifigures  Retail Price\n",
      "0           Big Ben    4162       10253            0        527.47\n",
      "1     Disney Castle    4080       71040            5        584.70\n",
      "2      Ghostbusters    4600       75827            9        648.00\n",
      "3   Hogwarts Castle    6020       71043            4        399.99\n",
      "4  Millenium Falcon    7541       75192           10        799.99\n",
      "5      Ninjago City    4867       70620           17        399.99\n",
      "6    Roller Coaster    4124       10261           11        599.99\n",
      "7    Star Destroyer    4784       75055            6        699.99\n",
      "8         Taj Mahal    5923       10256            0        369.99\n",
      "9      Tower Bridge    4295       10214            0        369.75\n"
     ]
    }
   ],
   "source": [
    "# Your implementation:\n",
    "df = pd.read_csv(\"assignment-13-data.csv\")\n",
    "print(df)\n"
   ]
  },
  {
   "cell_type": "markdown",
   "metadata": {},
   "source": [
    "### Problem 9. Previewing Large Data Sets\n",
    "**Action:**\n",
    "- Use the `head` method to print out the top five (5) rows of the Pandas DataFrame object `df`."
   ]
  },
  {
   "cell_type": "code",
   "execution_count": 14,
   "metadata": {},
   "outputs": [
    {
     "name": "stdout",
     "output_type": "stream",
     "text": [
      "           Set Name  Pieces  Set Number  Minifigures  Retail Price\n",
      "0           Big Ben    4162       10253            0        527.47\n",
      "1     Disney Castle    4080       71040            5        584.70\n",
      "2      Ghostbusters    4600       75827            9        648.00\n",
      "3   Hogwarts Castle    6020       71043            4        399.99\n",
      "4  Millenium Falcon    7541       75192           10        799.99\n"
     ]
    }
   ],
   "source": [
    "# Your implementation:\n",
    "print(df.head(5))\n"
   ]
  },
  {
   "cell_type": "markdown",
   "metadata": {},
   "source": [
    "### Problem 10. Inspecting the DataFrame\n",
    "\n",
    "**Action:**\n",
    "- Use the `info` method to print out descriptive information about `df` and its data."
   ]
  },
  {
   "cell_type": "code",
   "execution_count": 15,
   "metadata": {},
   "outputs": [
    {
     "name": "stdout",
     "output_type": "stream",
     "text": [
      "<class 'pandas.core.frame.DataFrame'>\n",
      "RangeIndex: 10 entries, 0 to 9\n",
      "Data columns (total 5 columns):\n",
      " #   Column        Non-Null Count  Dtype  \n",
      "---  ------        --------------  -----  \n",
      " 0   Set Name      10 non-null     object \n",
      " 1   Pieces        10 non-null     int64  \n",
      " 2   Set Number    10 non-null     int64  \n",
      " 3   Minifigures   10 non-null     int64  \n",
      " 4   Retail Price  10 non-null     float64\n",
      "dtypes: float64(1), int64(3), object(1)\n",
      "memory usage: 528.0+ bytes\n",
      "None\n"
     ]
    }
   ],
   "source": [
    "# Your implementation:\n",
    "print(df.info())\n"
   ]
  },
  {
   "cell_type": "markdown",
   "metadata": {},
   "source": [
    "**Action:**\n",
    "- Use the `shape` attribute to print the shape (rows, then columns) of `df`."
   ]
  },
  {
   "cell_type": "code",
   "execution_count": 16,
   "metadata": {},
   "outputs": [
    {
     "name": "stdout",
     "output_type": "stream",
     "text": [
      "(10, 5)\n"
     ]
    }
   ],
   "source": [
    "# Your implementation:\n",
    "print(df.shape)\n"
   ]
  },
  {
   "cell_type": "markdown",
   "metadata": {},
   "source": [
    "**Action:**\n",
    "- Print the `columns` attribute of `df`, and also print its type."
   ]
  },
  {
   "cell_type": "code",
   "execution_count": 17,
   "metadata": {},
   "outputs": [
    {
     "name": "stdout",
     "output_type": "stream",
     "text": [
      "Index(['Set Name', 'Pieces', 'Set Number', 'Minifigures', 'Retail Price'], dtype='object')\n",
      "<class 'pandas.core.indexes.base.Index'>\n"
     ]
    }
   ],
   "source": [
    "# Your implementation:\n",
    "print(df.columns)\n",
    "print(type(df.columns))\n"
   ]
  },
  {
   "cell_type": "markdown",
   "metadata": {},
   "source": [
    "**Action:**\n",
    "- Print the `index` attribute of `df`."
   ]
  },
  {
   "cell_type": "code",
   "execution_count": 18,
   "metadata": {},
   "outputs": [
    {
     "name": "stdout",
     "output_type": "stream",
     "text": [
      "RangeIndex(start=0, stop=10, step=1)\n"
     ]
    }
   ],
   "source": [
    "# Your implementation:\n",
    "print(df.index)\n"
   ]
  },
  {
   "cell_type": "markdown",
   "metadata": {},
   "source": [
    "**Actions:**\n",
    "- Print out statistics of the data in `df` using the `describe` method.\n",
    "- Print out the type of the value returned from the `describe` method."
   ]
  },
  {
   "cell_type": "code",
   "execution_count": 19,
   "metadata": {
    "scrolled": true
   },
   "outputs": [
    {
     "name": "stdout",
     "output_type": "stream",
     "text": [
      "            Pieces    Set Number  Minifigures  Retail Price\n",
      "count    10.000000     10.000000    10.000000     10.000000\n",
      "mean   5039.600000  47976.100000     6.200000    539.986000\n",
      "std    1124.016528  32524.622155     5.613476    151.915017\n",
      "min    4080.000000  10214.000000     0.000000    369.750000\n",
      "25%    4195.250000  10257.250000     1.000000    399.990000\n",
      "50%    4692.000000  70830.000000     5.500000    556.085000\n",
      "75%    5659.000000  74052.000000     9.750000    635.997500\n",
      "max    7541.000000  75827.000000    17.000000    799.990000\n",
      "<class 'pandas.core.frame.DataFrame'>\n"
     ]
    }
   ],
   "source": [
    "# Your implementation:\n",
    "print(df.describe())\n",
    "print(type(df.describe()))\n"
   ]
  },
  {
   "cell_type": "markdown",
   "metadata": {},
   "source": [
    "## Optional\n",
    "\n",
    "All actions from this point on are optional for Assignment 7.  They will not be graded.\n",
    "\n",
    "However, you may wish to practice with them to get more comfortable working with Series and DataFrames.\n",
    "\n",
    "### Optional 1. Renaming Columns\n",
    "\n",
    "Let's rename some of the columns in the `df` DataFrame to make them easier to read.\n",
    "\n",
    "**Actions:**\n",
    "- Rename the \"Pieces\" column to \"Number of Pieces\"\n",
    "- Rename the \"Minifigures\" column to \"Number of Minifigures\"\n",
    "- Print out the `df` object to see the default data view."
   ]
  },
  {
   "cell_type": "code",
   "execution_count": null,
   "metadata": {},
   "outputs": [],
   "source": [
    "# Your implementation:\n",
    "\n"
   ]
  },
  {
   "cell_type": "markdown",
   "metadata": {},
   "source": [
    "### Optional 2. Filtering by Columns\n",
    "\n",
    "We have too much data (too many columns).  Let's filter the colums in the `df` DataFrame to focus our analysis.\n",
    "\n",
    "**Actions:**\n",
    "- Filter the existing DataFrame `df` so that it only includes the following columns, and in this order:\n",
    "    - Set Number\n",
    "    - Set Name\n",
    "    - Number of Pieces\n",
    "    - Number of Minifigures\n",
    "- Store the new, filtered DataFrame back into a variable called `df_filtered`.\n",
    "- Print the head for `df_filtered`.\n",
    "- Print the number of rows in `df_filtered`."
   ]
  },
  {
   "cell_type": "code",
   "execution_count": null,
   "metadata": {},
   "outputs": [],
   "source": [
    "# Your implementation:\n",
    "\n"
   ]
  },
  {
   "cell_type": "markdown",
   "metadata": {},
   "source": [
    "### Optional 3. Filtering Using a Condition\n",
    "We have too much data (too many rows).  Let's filter the rows in the `df_filtered` DataFrame to focus our analysis.\n",
    "\n",
    "**Actions:**\n",
    "- Filter the existing DataFrame `df_filtered`:\n",
    "    - Create a variable called `condition1` to only contain the large Lego sets which include **more than 5 minifigures**.\n",
    "    - Use `condition1` to filter `df_filtered` using bracket syntax.\n",
    "- Store the new, filtered DataFrame back into `df_filtered`.\n",
    "- Print the head for `df_filtered`.\n",
    "- Print the number of rows in `df_filtered`."
   ]
  },
  {
   "cell_type": "code",
   "execution_count": null,
   "metadata": {},
   "outputs": [],
   "source": [
    "# Your implementation:\n",
    "\n"
   ]
  },
  {
   "cell_type": "markdown",
   "metadata": {},
   "source": [
    "Let's create a second condition filter.\n",
    "\n",
    "**Actions:**\n",
    "- Filter the existing DataFrame `df_filtered`:\n",
    "    - Create a variable called `condition2` to only contain the large Lego sets which have **at least 5,000 pieces**.\n",
    "    - Use `condition2` to filter `df_filtered` using backet syntax.\n",
    "- Store the new, filtered DataFrame back into `df_filtered`.\n",
    "- Print the head for `df_filtered`.\n",
    "- Print the number of rows in `df_filtered`."
   ]
  },
  {
   "cell_type": "code",
   "execution_count": null,
   "metadata": {},
   "outputs": [],
   "source": [
    "# Your implementation:\n",
    "\n"
   ]
  },
  {
   "cell_type": "markdown",
   "metadata": {},
   "source": [
    "### Optional 4. Sorting a DataFrame\n",
    "\n",
    "Let's practice sorting the original DataFrame `df` in a couple of different ways.\n",
    "\n",
    "First, let's sort by creating a new index in the DataFrame based on an existing column of data.\n",
    "\n",
    "**Actions:**\n",
    "- Use the `set_index` method to put \"Set Names\" into the index.\n",
    "- Store the new, sorted DataFrame into a new variable called `df_sorted`.\n",
    "- Use the `sort_index` method to sort by \"Set Names\" in alphabetical (ascending) order.\n",
    "- Store the new, sorted DataFrame back into `df_sorted`.\n",
    "- Print the head for `df_sorted`."
   ]
  },
  {
   "cell_type": "code",
   "execution_count": null,
   "metadata": {},
   "outputs": [],
   "source": [
    "# Your implementation:\n",
    "\n"
   ]
  },
  {
   "cell_type": "markdown",
   "metadata": {},
   "source": [
    "Second, let's sort on one of the columns in the DataFrame.\n",
    "\n",
    "**Actions:**\n",
    "- Use the `sort_values` method to sort on \"Number of Pieces\".\n",
    "- Use the optional `ascending` parameter in the `sort_values` method to adjust the sorting from largest to smallest (descending) order.\n",
    "- Store the new, sorted DataFrame back into `df_sorted`.\n",
    "- Print the head for `df_sorted`."
   ]
  },
  {
   "cell_type": "code",
   "execution_count": null,
   "metadata": {},
   "outputs": [],
   "source": [
    "# Your implementation:\n",
    "\n"
   ]
  },
  {
   "cell_type": "markdown",
   "metadata": {},
   "source": [
    "Third, let's sort on multiple columns in the DataFrame.\n",
    "\n",
    "**Actions:**\n",
    "- Use the `sort_values` method to sort first on \"Number of Minifigures\" (descending), then by \"Number of Pieces\" (descending).\n",
    "- Store the new, sorted DataFrame back into `df_sorted`.\n",
    "- Print the head for `df_sorted`."
   ]
  },
  {
   "cell_type": "code",
   "execution_count": null,
   "metadata": {},
   "outputs": [],
   "source": [
    "# Your implementation:\n",
    "\n"
   ]
  },
  {
   "cell_type": "markdown",
   "metadata": {},
   "source": [
    "### Optional 5. Statistical Operations\n",
    "\n",
    "Let's calculate the sum and mean for some of the colums in the existing DataFrame `df`.\n",
    "\n",
    "**Actions:**\n",
    "- Use bracket syntax to access the following for the \"Number of Pieces\" column.\n",
    "    - Determine the sum of all pieces.  Store this value in `totalPieces`, then print.\n",
    "    - Determine the mean number of pieces.  Store this value in `averageNumPieces`, then print.\n",
    "    - Determine the minimum number of pieces.  Store this value in `minNumPieces`, then print.\n",
    "    - Determine the maximum number of pieces.  Store this value in `maxNumPieces`, then print."
   ]
  },
  {
   "cell_type": "code",
   "execution_count": null,
   "metadata": {},
   "outputs": [],
   "source": [
    "# Your implementation:\n",
    "\n"
   ]
  }
 ],
 "metadata": {
  "kernelspec": {
   "display_name": "Python 3",
   "language": "python",
   "name": "python3"
  },
  "language_info": {
   "codemirror_mode": {
    "name": "ipython",
    "version": 3
   },
   "file_extension": ".py",
   "mimetype": "text/x-python",
   "name": "python",
   "nbconvert_exporter": "python",
   "pygments_lexer": "ipython3",
   "version": "3.8.3"
  },
  "nbclean": true
 },
 "nbformat": 4,
 "nbformat_minor": 1
}
